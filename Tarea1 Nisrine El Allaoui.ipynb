{
  "nbformat": 4,
  "nbformat_minor": 0,
  "metadata": {
    "colab": {
      "provenance": [],
      "gpuType": "T4"
    },
    "kernelspec": {
      "name": "python3",
      "display_name": "Python 3"
    },
    "language_info": {
      "name": "python"
    },
    "accelerator": "GPU"
  },
  "cells": [
    {
      "cell_type": "markdown",
      "source": [
        "\n",
        "#Universidad de Las Palmas de Gran Canaria.\n",
        "\n",
        "Máster Universitario en Sistemas Inteligentes y Aplicaciones Numéricas en Ingeniería.\n",
        "\n",
        "Computación Inteligente.\n",
        "\n",
        "Nisrine El Allaoui\n",
        "\n",
        "\n"
      ],
      "metadata": {
        "id": "zLedG0BUpn2Q"
      }
    },
    {
      "cell_type": "markdown",
      "source": [
        "\n",
        "#Título:\n",
        "Clasificación de Personajes de Los Simpson con Redes Neuronales\n",
        "#Descripción:\n",
        "Este proyecto utiliza un conjunto de datos de imágenes de seis personajes de la serie \"Los Simpson\". A través de una red neuronal, se busca clasificar correctamente a cada personaje en función de sus características visuales.\n"
      ],
      "metadata": {
        "id": "78EUt9zfSN9s"
      }
    },
    {
      "cell_type": "markdown",
      "source": [
        "#Dependencias y Configuración del Entorno\n",
        "En este bloque, se importan las bibliotecas necesarias para implementar y entrenar una red neuronal. Las principales dependencias utilizadas son:\n",
        "\n",
        "\n",
        "*   PyTorch: Para construir, entrenar y evaluar la red neuronal.\n",
        "*   torchvision: Para trabajar con datasets e implementar transformaciones en las imágenes.\n",
        "*   Matplotlib: Para visualizar datos y resultados.\n",
        "\n",
        "\n",
        "\n",
        "Código:"
      ],
      "metadata": {
        "id": "7_4E5k-tnn94"
      }
    },
    {
      "cell_type": "code",
      "execution_count": 6,
      "metadata": {
        "id": "-8A8PQmxNayN",
        "colab": {
          "base_uri": "https://localhost:8080/"
        },
        "outputId": "eb8e63ed-ace2-45ac-871c-da069b0e929a"
      },
      "outputs": [
        {
          "output_type": "stream",
          "name": "stdout",
          "text": [
            "\n",
            "Version torch: 2.5.1+cu121\n"
          ]
        }
      ],
      "source": [
        "import os\n",
        "import torch\n",
        "import torch.nn as nn\n",
        "import torch.optim as optim\n",
        "from torchvision import datasets, transforms\n",
        "from torch.utils.data import random_split, DataLoader\n",
        "import matplotlib.pyplot as plt\n",
        "import torch.optim as optim\n",
        "\n",
        "\n",
        "print('\\nVersion torch:', torch.__version__)"
      ]
    },
    {
      "cell_type": "markdown",
      "source": [
        "\n",
        "\n",
        "#Configuración del Dispositivo\n",
        "En esta sección, se verifica si hay una GPU disponible para aprovechar la aceleración de hardware durante el entrenamiento del modelo. Si no se detecta una GPU, se utilizará la CPU. Esto asegura que el código sea adaptable a diferentes entornos de ejecución.\n",
        "\n",
        "Código:\n",
        "\n"
      ],
      "metadata": {
        "id": "HXTE8gvaoQnM"
      }
    },
    {
      "cell_type": "code",
      "source": [
        "\n",
        "# Configuración del dispositivo (usa GPU si está disponible)\n",
        "if torch.cuda.is_available():\n",
        "    device = torch.device(\"cuda\")\n",
        "    print('Cuda está disponible. Se utilizará la GPU del equipo')\n",
        "else:\n",
        "    device = torch.device(\"cpu\")\n",
        "    print('Cuda no está disponible. Se utilizará la CPU del equipo')"
      ],
      "metadata": {
        "id": "9fsLAkTkNfMZ",
        "colab": {
          "base_uri": "https://localhost:8080/"
        },
        "outputId": "256a247c-4308-4aca-adfa-2e8dd5e85490"
      },
      "execution_count": 7,
      "outputs": [
        {
          "output_type": "stream",
          "name": "stdout",
          "text": [
            "Cuda está disponible. Se utilizará la GPU del equipo\n"
          ]
        }
      ]
    },
    {
      "cell_type": "markdown",
      "source": [
        "#Preparación de los Datos\n",
        "En esta sección, se realiza la preprocesamiento de las imágenes para que sean compatibles con la red neuronal:\n",
        "\n",
        "* Redimensionamiento: Se ajusta el tamaño de las imágenes a 128x128 píxeles para uniformidad.\n",
        "* Conversión a Tensores: Se convierten las imágenes en tensores para que puedan ser procesadas por PyTorch.\n",
        "* Normalización: Se escala el rango de píxeles de las imágenes a valores entre -1 y 1, lo que acelera el entrenamiento y mejora la estabilidad numérica.\n",
        "\n",
        "\n",
        "Detalles del proceso de normalización:\n",
        "\n",
        "\n",
        "1.   Fórmula de normalización:\n",
        "      \n",
        "      La normalización en PyTorch se aplica pixel a pixel usando la fórmula:\n",
        "\n",
        "      Valor_normalizado = (Valor_original−mean)/std\n",
        "\n",
        "2.   Parámetros utilizados:\n",
        "\n",
        "      mean=[0.5, 0.5, 0.5]: Indica que el promedio para   cada canal (R, G, B) es 0.5.\n",
        "      std=[0.5, 0.5, 0.5]: Establece que la desviación estándar para cada canal es 0.5.\n",
        "\n",
        "3.  Cómo funciona para imágenes en el rango [0, 1]:\n",
        "\n",
        "    Si los valores iniciales de los píxeles están en el rango\n",
        "    [0,1], el cálculo sería:\n",
        "\n",
        "    Valor normalizado= (Valor original−0.5)/0.5\n",
        "\n",
        "\n",
        "Esto transforma los valores:\n",
        "\n",
        "0 (negro) → −1\n",
        "\n",
        "0.5 (gris medio) → 0\n",
        "\n",
        "1 (blanco) → 1\n",
        "Por lo tanto, escala los valores originales de [0, 1] al rango [-1, 1].\n",
        "\n",
        "Código:"
      ],
      "metadata": {
        "id": "dwHJ9XuTonQq"
      }
    },
    {
      "cell_type": "code",
      "source": [
        "\n",
        "transform = transforms.Compose([\n",
        "    transforms.Resize((128, 128)), # Iguala el tamaño de las imágees\n",
        "    transforms.ToTensor(), # Convierte las imágenes a tensores\n",
        "    transforms.Normalize(mean=[0.5, 0.5, 0.5], std=[0.5, 0.5, 0.5]) # Escala a -1;1\n",
        "])"
      ],
      "metadata": {
        "id": "mRLlA6rQyXvU"
      },
      "execution_count": 8,
      "outputs": []
    },
    {
      "cell_type": "markdown",
      "source": [
        "Descripción del Dataset: El conjunto de datos se organiza utilizando ImageFolder, que permite trabajar con datos almacenados en carpetas. Cada subcarpeta representa una clase (en este caso, un personaje de Los Simpson).\n",
        "\n"
      ],
      "metadata": {
        "id": "jt5SO1yZrQYy"
      }
    },
    {
      "cell_type": "code",
      "source": [
        "dataset = datasets.ImageFolder('/content/drive/MyDrive/data', transform=transform)"
      ],
      "metadata": {
        "id": "DgnK7nOH2hv2"
      },
      "execution_count": 9,
      "outputs": []
    },
    {
      "cell_type": "markdown",
      "source": [
        "#Exploración del Conjunto de Datos\n",
        "Antes de entrenar el modelo, es importante entender la distribución del conjunto de datos. En este bloque de código:\n",
        "\n",
        "* Número total de imágenes: Se imprime la cantidad total de imágenes disponibles en el dataset.\n",
        "\n",
        "* Número de clases: Se identifica cuántas clases diferentes (en este caso, personajes de Los Simpson) hay en el dataset.\n",
        "\n",
        "* Distribución por clase: Se calcula el porcentaje de imágenes asociadas a cada clase, proporcionando una visión general del balance de datos."
      ],
      "metadata": {
        "id": "yPPty59ctwch"
      }
    },
    {
      "cell_type": "code",
      "source": [
        "# Exploración de datos.\n",
        "\n",
        "print(\"Número de imágenes: \", len(dataset))\n",
        "print(\"Número de clases: \", len(dataset.classes), \"\\n\")\n",
        "import os\n",
        "\n",
        "for i in range(len(dataset.classes)):\n",
        "    # Use os.path.join to create the full path for each class folder\n",
        "    class_path = os.path.join('/content/drive/MyDrive/data', dataset.classes[i])\n",
        "    class_count = len(os.listdir(class_path))  # Get the number of images in each class folder\n",
        "    class_percentage = round((class_count / len(dataset)) * 100, 2)  # Calculate the percentage\n",
        "\n",
        "    print(f\"Clase {i}: {dataset.classes[i]} - {class_percentage}%\")\n"
      ],
      "metadata": {
        "id": "_fisx6NhRguf",
        "colab": {
          "base_uri": "https://localhost:8080/"
        },
        "outputId": "28074dcb-9f4f-4459-f487-0e2983114744"
      },
      "execution_count": 10,
      "outputs": [
        {
          "output_type": "stream",
          "name": "stdout",
          "text": [
            "Número de imágenes:  7014\n",
            "Número de clases:  6 \n",
            "\n",
            "Clase 0: abraham_grampa_simpson - 13.3%\n",
            "Clase 1: bart_simpson - 19.13%\n",
            "Clase 2: charles_montgomery_burns - 17.01%\n",
            "Clase 3: chief_wiggum - 14.06%\n",
            "Clase 4: krusty_the_clown - 17.19%\n",
            "Clase 5: lisa_simpson - 19.3%\n"
          ]
        }
      ]
    },
    {
      "cell_type": "markdown",
      "source": [
        "### Separación del Conjunto de Datos\n",
        "Para entrenar y evaluar el modelo de manera efectiva, el conjunto de datos se divide en tres subconjuntos:\n",
        "\n",
        "* Entrenamiento (80%)\n",
        "* Validación (10%)\n",
        "* Prueba (10%)\n",
        "\n",
        "La función random_split se utiliza para dividir aleatoriamente el dataset según los tamaños especificados.\n",
        "\n",
        "Código:"
      ],
      "metadata": {
        "id": "L3JW3TU4uh-_"
      }
    },
    {
      "cell_type": "code",
      "source": [
        "# Separación de datos en entrenamiento y prueba.\n",
        "\n",
        "train_size = int(0.8 * len(dataset))  # 80% para entrenamiento\n",
        "remaining_size = len(dataset) - train_size  # El 20% restante\n",
        "test_size = int(0.5 * remaining_size)  # La mitad para prueba (10%)\n",
        "val_size = remaining_size - test_size  # La otra mitad para validación (10%)\n",
        "\n",
        "train_dataset, val_dataset, test_dataset = random_split(dataset, [train_size, val_size, test_size])\n",
        "\n",
        "\n",
        "print(f\"Training data size: {len(train_dataset)}\")\n",
        "print(f\"Validation data size: {len(test_dataset)}\")\n",
        "print(f\"Test data size: {len(val_dataset)}\")\n",
        "\n"
      ],
      "metadata": {
        "id": "6liold7gyJi9",
        "colab": {
          "base_uri": "https://localhost:8080/"
        },
        "outputId": "a68b2b6d-744e-404b-c1ac-097efb5059f6"
      },
      "execution_count": 11,
      "outputs": [
        {
          "output_type": "stream",
          "name": "stdout",
          "text": [
            "Training data size: 5611\n",
            "Validation data size: 701\n",
            "Test data size: 702\n"
          ]
        }
      ]
    },
    {
      "cell_type": "markdown",
      "source": [
        "#Visualización de Imágenes y Etiquetas\n",
        "\n",
        "Antes de entrenar el modelo, es útil inspeccionar visualmente algunas imágenes del conjunto de datos. Esto permite verificar que las etiquetas asociadas sean correctas y que las transformaciones aplicadas durante el preprocesamiento no hayan alterado las imágenes de manera no deseada.\n",
        "\n",
        "En este bloque de código:\n",
        "\n",
        "1. Se define una función show_img para visualizar una imagen junto con su etiqueta.\n",
        "2. Se selecciona una imagen del conjunto de datos de entrenamiento para ser mostrada.\n",
        "3. La etiqueta correspondiente se imprime junto con el nombre de la clase y su índice.\n",
        "\n",
        "Código:"
      ],
      "metadata": {
        "id": "xvcYJBwev1ea"
      }
    },
    {
      "cell_type": "code",
      "source": [],
      "metadata": {
        "id": "dhzqgzmZT2KE"
      },
      "execution_count": null,
      "outputs": []
    },
    {
      "cell_type": "code",
      "source": [
        "# Muestra una imagen de prueba y su etiqueta\n",
        "\n",
        "def show_img(img, label):\n",
        "    print('Label: ', dataset.classes[label], \"(\" + str(label) + \")\")\n",
        "    plt.imshow(img.permute(1, 2, 0))\n",
        "\n",
        "img, label = train_dataset[3]\n",
        "show_img(img, label)"
      ],
      "metadata": {
        "colab": {
          "base_uri": "https://localhost:8080/",
          "height": 469
        },
        "id": "3EUAruuf813S",
        "outputId": "cae9a84e-f714-4f91-cf5d-26093d6f961d"
      },
      "execution_count": 12,
      "outputs": [
        {
          "output_type": "stream",
          "name": "stderr",
          "text": [
            "WARNING:matplotlib.image:Clipping input data to the valid range for imshow with RGB data ([0..1] for floats or [0..255] for integers).\n"
          ]
        },
        {
          "output_type": "stream",
          "name": "stdout",
          "text": [
            "Label:  krusty_the_clown (4)\n"
          ]
        },
        {
          "output_type": "display_data",
          "data": {
            "text/plain": [
              "<Figure size 640x480 with 1 Axes>"
            ],
            "image/png": "[encoded data removed]"
          },
          "metadata": {}
        }
      ]
    },
    {
      "cell_type": "markdown",
      "source": [
        "#Creación de DataLoaders\n",
        "Los DataLoaders se utilizan para cargar los datos de manera eficiente durante el entrenamiento y la evaluación del modelo. En este caso:\n",
        "\n",
        "1. Conjuntos de datos:\n",
        "\n",
        "    * train_loader: Contiene los datos de entrenamiento, cargados en mini-batches con aleatorización (shuffle=True).\n",
        "    * val_loader: Contiene los datos de validación, cargados sin aleatorización (shuffle=False).\n",
        "    * test_loader: Contiene los datos de prueba, también cargados sin aleatorización.\n",
        "\n",
        "2. Tamaño de lote (batch size): Cada mini-batch contiene 32 imágenes, lo que es un tamaño común para balancear eficiencia y rendimiento.\n",
        "\n",
        "3. Inspección de un lote: Se extrae un lote del conjunto de prueba (test_loader) y se imprime la forma del tensor de imágenes y etiquetas, lo que ayuda a verificar que los datos se estén cargando correctamente."
      ],
      "metadata": {
        "id": "cYrGVlC_wc_q"
      }
    },
    {
      "cell_type": "code",
      "source": [
        "\n",
        "train_loader = DataLoader(train_dataset, batch_size=32, shuffle=True)\n",
        "val_loader = DataLoader(val_dataset, batch_size=32, shuffle=False)\n",
        "test_loader = DataLoader(test_dataset, batch_size=32, shuffle=False)\n"
      ],
      "metadata": {
        "id": "6SyNtMGM86lI"
      },
      "execution_count": 13,
      "outputs": []
    },
    {
      "cell_type": "code",
      "source": [
        "\n",
        "batch = next(iter(test_loader))\n",
        "print(batch[0].shape, batch[1].shape)\n"
      ],
      "metadata": {
        "colab": {
          "base_uri": "https://localhost:8080/"
        },
        "id": "GT7USkIwNi7F",
        "outputId": "9a1637ac-7d82-4eb6-8975-6b98663a8cef"
      },
      "execution_count": 14,
      "outputs": [
        {
          "output_type": "stream",
          "name": "stdout",
          "text": [
            "torch.Size([32, 3, 128, 128]) torch.Size([32])\n"
          ]
        }
      ]
    },
    {
      "cell_type": "markdown",
      "source": [
        "Explicación de la Salida:\n",
        "\n",
        "torch.Size([32, 3, 128, 128]): Indica que el lote contiene 32 imágenes, cada una con 3 canales (RGB) y dimensiones de 128x128 píxeles.\n",
        "\n",
        "torch.Size([32]): Indica que hay 32 etiquetas correspondientes a las imágenes del lote."
      ],
      "metadata": {
        "id": "PBnJpgSfw-_d"
      }
    },
    {
      "cell_type": "markdown",
      "source": [
        "# Arquitectura de la red\n",
        "El modelo utilizado se basa en una red neuronal convolucional sencilla (SimpleCNN), diseñada para procesar imágenes y clasificar a los personajes de Los Simpson. La arquitectura se define con las siguientes características:\n",
        "\n",
        "## Capas del modelo\n",
        "* Entrada:\n",
        "\n",
        "    Tensor de dimensión 3 x 128 x 128 (canales de color RGB x tamaño de la imagen\n",
        "    en píxeles).\n",
        "\n",
        "* Capas convolutivas:\n",
        "\n",
        "   * Aplican kernels de tamaño 3×3, avanzando de píxel en píxel (𝑠𝑡𝑟𝑖𝑑𝑒=1) con relleno en los bordes (padding=1) para mantener el tamaño espacial.\n",
        "   * Capa 1: Conv2D con 3 canales de entrada (RGB) y 32 canales de salida.\n",
        "   * Capa 2: Conv2D con 32 canales de entrada (de la capa anterior) y 64 canales de salida.\n",
        "   * Ambas capas convolutivas están seguidas por:\n",
        "      * Una activación ReLU.\n",
        "      * Una operación de MaxPooling para reducir las dimensiones espaciales.\n",
        "\n",
        "\n",
        "* Pooling:\n",
        "    \n",
        "    * Reduce la dimensionalidad extrayendo características relevantes.\n",
        "\n",
        "    * MaxPooling con un kernel 2×2 y stride 2, lo que reduce las dimensiones  \n",
        "      espaciales a la mitad en cada paso.\n",
        "\n",
        "    * Ejemplo de transformación:\n",
        "\n",
        "        * Después de conv1 y pooling: 32×32→32×16×16.\n",
        "        * Después de conv2 y pooling: 64×16×16→64×8×8.  \n",
        "\n",
        "* Flatten:\n",
        "\n",
        "     * Convierte el tensor tridimensional de salida (64×8×8) en un vector unidimensional.\n",
        "     * Ejemplo: Transformación de 64×8×8 a un vector de 4096 elementos.\n",
        "\n",
        "\n",
        "* Linealización (fc1):\n",
        "\n",
        "     * Una capa completamente conectada que reduce la dimensionalidad de 4096 a\n",
        "128.\n",
        "     * Activación mediante ReLU.\n",
        "\n",
        "* Dropout:\n",
        "\n",
        "    Omite aleatoriamente 50% de las neuronas durante el entrenamiento para mejorar la generalización y reducir el sobreajuste.\n",
        "\n",
        "* Capa de salida (fc2):\n",
        "\n",
        "    Capa fully connected que reduce la dimensionalidad de 128 a 6, correspondiente al número de categorías (personajes).\n"
      ],
      "metadata": {
        "id": "ypiqHrv3xGVM"
      }
    },
    {
      "cell_type": "markdown",
      "source": [
        "## Funciones clave\n",
        "\n",
        "  **ReLU (Rectified Linear Unit):**\n",
        "    Filtra valores negativos en las capas convolutivas y fully connected.\n",
        "    Introduce no linealidad a la red, permitiendo el aprendizaje de representaciones más complejas.\n",
        "\n",
        "   **Dropout:**\n",
        "    Apaga neuronas de forma aleatoria durante el entrenamiento, promoviendo la robustez del modelo.\n",
        "\n",
        "## Resumen de flujo de datos:\n",
        "\n",
        "  **Entrada:** 3 x 128 x 128 (imagen RGB).\n",
        "\n",
        "   **Capa 1:** convolutiva (32 canales) + activación ReLU + pooling → 32 x 64 x 64.\n",
        "\n",
        "   **Capa 2:** convolutiva (64 canales) + activación ReLU + pooling → 64 x 32 x 32.\n",
        "\n",
        "   **Flatten:** vectoriza → 65636 elementos.\n",
        "\n",
        "   **Fully connected (fc1):** reduce a 128 con Dropout.\n",
        "\n",
        "   **Fully connected (fc2):** reduce a 6 (clases finales).\n"
      ],
      "metadata": {
        "id": "QxNA9EYFZVt0"
      }
    },
    {
      "cell_type": "code",
      "source": [
        "class SimpleCNN(nn.Module):\n",
        "    def __init__(self):\n",
        "        super(SimpleCNN, self).__init__()\n",
        "        self.conv1 = nn.Conv2d(3, 32, kernel_size=3, stride=1, padding=1)\n",
        "        self.conv2 = nn.Conv2d(32, 64, kernel_size=3, stride=1, padding=1)\n",
        "        self.pool = nn.MaxPool2d(2, 2)\n",
        "        self.fc1 = nn.Linear(32 * 32 * 64, 128)\n",
        "        self.fc2 = nn.Linear(128, 6)\n",
        "        self.relu = nn.ReLU()\n",
        "        self.dropout = nn.Dropout(0.5)\n",
        "\n",
        "    def forward(self, x):\n",
        "        x = self.pool(self.relu(self.conv1(x)))\n",
        "        x = self.pool(self.relu(self.conv2(x)))\n",
        "        x = x.view(x.size(0), -1)  # Flatten dinámico\n",
        "        x = self.dropout(self.relu(self.fc1(x)))\n",
        "        x = self.fc2(x)\n",
        "        return x\n"
      ],
      "metadata": {
        "id": "QTHCSGGFNIZk"
      },
      "execution_count": 15,
      "outputs": []
    },
    {
      "cell_type": "markdown",
      "source": [
        "# Configuración del Modelo, Función de Pérdida y Optimizador\n",
        "En esta parte se define cómo se entrenará el modelo, estableciendo:\n",
        "\n",
        "1. El modelo utilizado.\n",
        "2. La función de pérdida: para evaluar el error durante el entrenamiento.\n",
        "3. El optimizador: para ajustar los parámetros del modelo y minimizar el error.\n",
        "\n",
        "## Modelo\n",
        "* Se crea una instancia del modelo definido previamente (SimpleCNN) y se transfiere al dispositivo disponible (GPU o CPU) para aprovechar recursos de hardware.\n",
        "\n",
        "* La línea model.to(device) asegura que todas las operaciones se ejecuten en el dispositivo especificado.\n",
        "\n",
        "## Función de Pérdida\n",
        "* Se utiliza CrossEntropyLoss, una función de pérdida estándar para tareas de clasificación.\n",
        "\n",
        "* Calcula la diferencia entre las predicciones del modelo y las etiquetas reales, proporcionando un valor escalar que el optimizador intentará minimizar.\n",
        "\n",
        "## Optimizador\n",
        "* Se utiliza el optimizador Adam (Adaptive Moment Estimation).\n",
        "\n",
        "* El argumento model.parameters() asegura que todos los parámetros entrenables del modelo sean actualizados durante el entrenamiento.\n",
        "\n",
        "* La tasa de aprendizaje (lr=0.001) es un hiperparámetro clave que determina la magnitud de los ajustes en cada iteración.\n"
      ],
      "metadata": {
        "id": "EVGwu2WJa4tb"
      }
    },
    {
      "cell_type": "code",
      "source": [
        "# Función de pérdida y optimizador\n",
        "model = SimpleCNN()         # Crea el modelo\n",
        "model = model.to(device)    # Utiliza la GPU si está disponible\n",
        "\n",
        "criterion = nn.CrossEntropyLoss()\n",
        "optimizer = optim.Adam(model.parameters(), lr=0.001)"
      ],
      "metadata": {
        "id": "Ef5OHanZSdaJ"
      },
      "execution_count": 16,
      "outputs": []
    },
    {
      "cell_type": "markdown",
      "source": [
        "# Entrenamiento del Modelo\n",
        "\n",
        "En este bloque se implementa el proceso de entrenamiento de la red neuronal convolucional utilizando el conjunto de datos previamente definido. A continuación, se describen las partes clave:\n",
        "\n",
        "## Configuración del Entrenamiento\n",
        "* Modelo:\n",
        "\n",
        "  Se transfiere el modelo (SimpleCNN) al dispositivo disponible (GPU o CPU) para ejecutar las operaciones de manera eficiente.\n",
        "\n",
        "* Función de pérdida:\n",
        "\n",
        "  Se utiliza CrossEntropyLoss, que mide el error entre las predicciones del modelo y las etiquetas reales.\n",
        "\n",
        "* Optimizador:\n",
        "\n",
        "  Adam es seleccionado por su eficiencia en la convergencia, ajustando los parámetros del modelo con una tasa de aprendizaje inicial (lr=0.001).\n",
        "\n",
        "* Scheduler:\n",
        "\n",
        "  StepLR reduce la tasa de aprendizaje en un factor (gamma=0.5) cada 5 épocas (step_size=5). Esto mejora la estabilidad en etapas avanzadas del entrenamiento."
      ],
      "metadata": {
        "id": "gTBERPpTfpnn"
      }
    },
    {
      "cell_type": "markdown",
      "source": [
        "# Proceso de Entrenamiento\n",
        "El entrenamiento se realiza durante 10 épocas (num_epochs) y consta de dos fases principales en cada iteración:\n",
        "\n",
        "### Fase 1: Entrenamiento\n",
        "* El modelo pasa al modo de entrenamiento (model.train()).\n",
        "* Para cada lote (batch) en train_loader:\n",
        "* Los datos y etiquetas se transfieren al dispositivo.\n",
        "* Se calculan las predicciones del modelo.\n",
        "* Se calcula la pérdida (error) entre las predicciones y las etiquetas reales.\n",
        "* Se realiza la retropropagación para ajustar los parámetros del modelo.\n",
        "* Se acumula la pérdida y se calcula la precisión del lote.\n",
        "\n",
        "### Resultados al final de la época:\n",
        "\n",
        "* Pérdida acumulada: Indicador del error en el conjunto de entrenamiento.\n",
        "* Precisión: Porcentaje de imágenes correctamente clasificadas.\n",
        "\n",
        "### Fase 2: Validación\n",
        "El modelo pasa al modo de evaluación (model.eval()), desactivando Dropout.\n",
        "Se calcula la pérdida y precisión en el conjunto de validación sin realizar ajustes en los parámetros (modo no gradiente).\n",
        "\n",
        "## Guardado del Modelo\n",
        "Al final del entrenamiento, los pesos del modelo se guardan en un archivo .pth para reutilización o evaluación futura."
      ],
      "metadata": {
        "id": "SNsy6WycgW8h"
      }
    },
    {
      "cell_type": "code",
      "source": [
        "# Modelo, pérdida y optimizador\n",
        "model = SimpleCNN().to(device)\n",
        "criterion = nn.CrossEntropyLoss()\n",
        "optimizer = optim.Adam(model.parameters(), lr=0.001)\n",
        "scheduler = torch.optim.lr_scheduler.StepLR(optimizer, step_size=5, gamma=0.5)\n",
        "\n",
        "# Entrenamiento del modelo\n",
        "num_epochs = 10\n",
        "\n",
        "for epoch in range(num_epochs):\n",
        "    # Entrenamiento\n",
        "    model.train()\n",
        "    train_loss = 0\n",
        "    correct = 0\n",
        "    total = 0\n",
        "    for images, labels in train_loader:\n",
        "        images, labels = images.to(device), labels.to(device)\n",
        "        optimizer.zero_grad()\n",
        "        outputs = model(images)\n",
        "        loss = criterion(outputs, labels)\n",
        "        loss.backward()\n",
        "        optimizer.step()\n",
        "        train_loss += loss.item()\n",
        "        _, predicted = outputs.max(1)\n",
        "        total += labels.size(0)\n",
        "        correct += predicted.eq(labels).sum().item()\n",
        "\n",
        "    train_accuracy = 100. * correct / total\n",
        "    print(f\"Epoch [{epoch+1}/{num_epochs}], Loss: {train_loss:.4f}, Accuracy: {train_accuracy:.2f}%\")\n",
        "\n",
        "    # Validación\n",
        "    model.eval()\n",
        "    val_loss = 0\n",
        "    correct = 0\n",
        "    total = 0\n",
        "    with torch.no_grad():\n",
        "        for images, labels in val_loader:\n",
        "            images, labels = images.to(device), labels.to(device)\n",
        "            outputs = model(images)\n",
        "            loss = criterion(outputs, labels)\n",
        "            val_loss += loss.item()\n",
        "            _, predicted = outputs.max(1)\n",
        "            total += labels.size(0)\n",
        "            correct += predicted.eq(labels).sum().item()\n",
        "\n",
        "    val_accuracy = 100. * correct / total\n",
        "    print(f\"Validation Loss: {val_loss:.4f}, Accuracy: {val_accuracy:.2f}%\")\n",
        "\n",
        "    # Actualizar el programador de tasa de aprendizaje\n",
        "    scheduler.step()\n",
        "\n",
        "# Guardar el modelo\n",
        "model_path = \"/content/drive/MyDrive/data/model29122024.pth\"\n",
        "torch.save(model.state_dict(), model_path)\n",
        "print(f\"Modelo guardado en {model_path}\")\n"
      ],
      "metadata": {
        "colab": {
          "base_uri": "https://localhost:8080/"
        },
        "id": "OFWGSGVwCS9S",
        "outputId": "8a44ca84-d83a-48ec-c8cf-696eb01b0bf9"
      },
      "execution_count": 26,
      "outputs": [
        {
          "output_type": "stream",
          "name": "stdout",
          "text": [
            "Epoch [1/10], Loss: 223.6880, Accuracy: 50.95%\n",
            "Validation Loss: 18.7717, Accuracy: 70.51%\n",
            "Epoch [2/10], Loss: 149.0176, Accuracy: 68.37%\n",
            "Validation Loss: 15.9135, Accuracy: 72.79%\n",
            "Epoch [3/10], Loss: 120.9324, Accuracy: 74.26%\n",
            "Validation Loss: 13.1514, Accuracy: 77.21%\n",
            "Epoch [4/10], Loss: 97.3396, Accuracy: 79.40%\n",
            "Validation Loss: 12.5590, Accuracy: 77.92%\n",
            "Epoch [5/10], Loss: 74.3132, Accuracy: 84.28%\n",
            "Validation Loss: 12.0648, Accuracy: 81.20%\n",
            "Epoch [6/10], Loss: 50.4324, Accuracy: 90.39%\n",
            "Validation Loss: 11.8054, Accuracy: 84.05%\n",
            "Epoch [7/10], Loss: 37.4096, Accuracy: 92.25%\n",
            "Validation Loss: 11.9653, Accuracy: 84.19%\n",
            "Epoch [8/10], Loss: 28.8083, Accuracy: 93.92%\n",
            "Validation Loss: 12.7597, Accuracy: 84.19%\n",
            "Epoch [9/10], Loss: 23.1361, Accuracy: 95.56%\n",
            "Validation Loss: 14.6484, Accuracy: 84.05%\n",
            "Epoch [10/10], Loss: 20.2276, Accuracy: 95.99%\n",
            "Validation Loss: 13.8977, Accuracy: 84.62%\n",
            "Modelo guardado en /content/drive/MyDrive/data/model29122024.pth\n"
          ]
        }
      ]
    },
    {
      "cell_type": "markdown",
      "source": [
        "## Testeo del Modelo\n",
        "\n",
        "En esta sección, se evalúa el rendimiento final del modelo en el conjunto de datos de prueba (test set). Esto es crucial para medir la capacidad del modelo de generalizar en datos no vistos previamente.\n",
        "\n",
        "1. Carga del Modelo Entrenado:\n",
        "\n",
        "    * Se cargan los pesos del modelo guardados durante el entrenamiento utilizando torch.load().\n",
        "    * El modelo se coloca en modo de evaluación (model.eval()) para desactivar comportamientos como Dropout, asegurando predicciones consistentes.\n",
        "\n",
        "2. Evaluación en el Conjunto de Prueba:\n",
        "\n",
        "    * Se itera a través del test_loader para calcular las métricas:\n",
        "        * Pérdida (Loss): Error promedio entre las predicciones del modelo y las etiquetas reales.\n",
        "        * Precisión (Accuracy): Porcentaje de imágenes correctamente clasificadas.\n",
        "\n",
        "3. Desactivación del Gradiente:\n",
        "\n",
        "      El bloque with torch.no_grad() asegura que no se calculen gradientes, lo que ahorra memoria y acelera el proceso.\n"
      ],
      "metadata": {
        "id": "G2yu9PNqldRa"
      }
    },
    {
      "cell_type": "code",
      "source": [
        "model_path = \"/content/drive/MyDrive/data/model29122024.pth\"\n",
        "# Testeo del modelo\n",
        "model.load_state_dict(torch.load(model_path))\n",
        "model.eval()\n",
        "test_loss = 0\n",
        "correct = 0\n",
        "total = 0\n",
        "with torch.no_grad():\n",
        "    for images, labels in test_loader:\n",
        "        images, labels = images.to(device), labels.to(device)\n",
        "        outputs = model(images)\n",
        "        loss = criterion(outputs, labels)\n",
        "        test_loss += loss.item()\n",
        "        _, predicted = outputs.max(1)\n",
        "        total += labels.size(0)\n",
        "        correct += predicted.eq(labels).sum().item()\n",
        "\n",
        "    test_accuracy = 100. * correct / total\n",
        "    print(f\"Test Loss: {test_loss:.4f}, Accuracy: {test_accuracy:.2f}%\")\n"
      ],
      "metadata": {
        "colab": {
          "base_uri": "https://localhost:8080/"
        },
        "id": "P2ngcn7je82m",
        "outputId": "03eca73a-582e-4eb5-8958-c9e97cfb741c"
      },
      "execution_count": 27,
      "outputs": [
        {
          "output_type": "stream",
          "name": "stderr",
          "text": [
            "<ipython-input-27-1908c339f99d>:3: FutureWarning: You are using `torch.load` with `weights_only=False` (the current default value), which uses the default pickle module implicitly. It is possible to construct malicious pickle data which will execute arbitrary code during unpickling (See https://github.com/pytorch/pytorch/blob/main/SECURITY.md#untrusted-models for more details). In a future release, the default value for `weights_only` will be flipped to `True`. This limits the functions that could be executed during unpickling. Arbitrary objects will no longer be allowed to be loaded via this mode unless they are explicitly allowlisted by the user via `torch.serialization.add_safe_globals`. We recommend you start setting `weights_only=True` for any use case where you don't have full control of the loaded file. Please open an issue on GitHub for any issues related to this experimental feature.\n",
            "  model.load_state_dict(torch.load(model_path))\n"
          ]
        },
        {
          "output_type": "stream",
          "name": "stdout",
          "text": [
            "Test Loss: 17.6341, Accuracy: 79.03%\n"
          ]
        }
      ]
    },
    {
      "cell_type": "markdown",
      "source": [
        "# Proceso de Entrenamiento con Transfer Learning\n",
        "\n",
        "El uso de transfer learning se basa en aprovechar un modelo preentrenado, como ResNet18, que ya ha aprendido características generales útiles en tareas de visión por computadora. Esto permite entrenar de manera más eficiente y con mejores resultados en conjuntos de datos específicos.\n",
        "\n",
        "Configuración del Modelo\n",
        "* Modelo Preentrenado: ResNet18 con pesos iniciales de ImageNet (pretrained=True), lo que permite reutilizar características previamente aprendidas como bordes, texturas y formas.\n",
        "\n",
        "* Modificación de la Capa de Salida: La última capa completamente conectada (fc) se reemplaza para que el modelo sea capaz de clasificar en las categorías específicas del conjunto de datos actual.\n",
        "\n",
        "* Capas Congeladas: Las capas iniciales (excepto layer4 y fc) están congeladas para evitar la actualización de sus pesos durante el entrenamiento, lo que conserva las características generales aprendidas en el modelo base."
      ],
      "metadata": {
        "id": "rbwMkRDaHI-h"
      }
    },
    {
      "cell_type": "code",
      "source": [
        "import torch\n",
        "import torch.nn as nn\n",
        "import torch.optim as optim\n",
        "from torchvision import models, transforms\n",
        "\n",
        "# Cargar modelo preentrenado (ResNet18 en este caso)\n",
        "model = models.resnet18(pretrained=True)\n",
        "\n",
        "# Congelar capas iniciales excepto las últimas\n",
        "for name, param in model.named_parameters():\n",
        "    if \"layer4\" in name or \"fc\" in name:  # Ajusta según tu arquitectura\n",
        "        param.requires_grad = True\n",
        "    else:\n",
        "        param.requires_grad = False\n",
        "\n",
        "# Modificar la última capa completamente conectada\n",
        "num_classes = 6  # Cambia según tu conjunto de datos\n",
        "model.fc = nn.Linear(model.fc.in_features, num_classes)\n",
        "\n",
        "# Mover el modelo al dispositivo (GPU o CPU)\n",
        "device = torch.device(\"cuda\" if torch.cuda.is_available() else \"cpu\")\n",
        "model = model.to(device)\n",
        "\n",
        "# Definir función de pérdida y optimizador\n",
        "criterion = nn.CrossEntropyLoss()\n",
        "optimizer = optim.SGD(model.parameters(), lr=0.001, momentum=0.9)\n",
        "scheduler = torch.optim.lr_scheduler.ReduceLROnPlateau(optimizer, mode='min', factor=0.1, patience=3)\n",
        "\n",
        "# Entrenamiento y validación\n",
        "num_epochs = 10\n",
        "for epoch in range(num_epochs):\n",
        "    # Entrenamiento\n",
        "    model.train()\n",
        "    train_loss = 0\n",
        "    correct = 0\n",
        "    total = 0\n",
        "    for images, labels in train_loader:\n",
        "        images, labels = images.to(device), labels.to(device)\n",
        "        optimizer.zero_grad()\n",
        "        outputs = model(images)\n",
        "        loss = criterion(outputs, labels)\n",
        "        loss.backward()\n",
        "        optimizer.step()\n",
        "        train_loss += loss.item()\n",
        "        _, predicted = outputs.max(1)\n",
        "        total += labels.size(0)\n",
        "        correct += predicted.eq(labels).sum().item()\n",
        "\n",
        "    train_accuracy = 100. * correct / total\n",
        "    print(f\"Epoch [{epoch+1}/{num_epochs}], Loss: {train_loss:.4f}, Accuracy: {train_accuracy:.2f}%\")\n",
        "\n",
        "    # Validación\n",
        "    model.eval()\n",
        "    val_loss = 0\n",
        "    correct = 0\n",
        "    total = 0\n",
        "    with torch.no_grad():\n",
        "        for images, labels in val_loader:\n",
        "            images, labels = images.to(device), labels.to(device)\n",
        "            outputs = model(images)\n",
        "            loss = criterion(outputs, labels)\n",
        "            val_loss += loss.item()\n",
        "            _, predicted = outputs.max(1)\n",
        "            total += labels.size(0)\n",
        "            correct += predicted.eq(labels).sum().item()\n",
        "\n",
        "    val_accuracy = 100. * correct / total\n",
        "    print(f\"Validation Loss: {val_loss:.4f}, Accuracy: {val_accuracy:.2f}%\")\n",
        "\n",
        "    # Ajustar el scheduler\n",
        "    scheduler.step(val_loss)\n",
        "\n",
        "\n"
      ],
      "metadata": {
        "colab": {
          "base_uri": "https://localhost:8080/"
        },
        "id": "mbVVvoiWB40C",
        "outputId": "d73ad404-4a83-453e-f938-ccd6a6206205"
      },
      "execution_count": 28,
      "outputs": [
        {
          "output_type": "stream",
          "name": "stderr",
          "text": [
            "/usr/local/lib/python3.10/dist-packages/torchvision/models/_utils.py:208: UserWarning: The parameter 'pretrained' is deprecated since 0.13 and may be removed in the future, please use 'weights' instead.\n",
            "  warnings.warn(\n",
            "/usr/local/lib/python3.10/dist-packages/torchvision/models/_utils.py:223: UserWarning: Arguments other than a weight enum or `None` for 'weights' are deprecated since 0.13 and may be removed in the future. The current behavior is equivalent to passing `weights=ResNet18_Weights.IMAGENET1K_V1`. You can also use `weights=ResNet18_Weights.DEFAULT` to get the most up-to-date weights.\n",
            "  warnings.warn(msg)\n"
          ]
        },
        {
          "output_type": "stream",
          "name": "stdout",
          "text": [
            "Epoch [1/10], Loss: 127.8928, Accuracy: 75.12%\n",
            "Validation Loss: 6.7208, Accuracy: 90.17%\n",
            "Epoch [2/10], Loss: 40.1775, Accuracy: 93.33%\n",
            "Validation Loss: 4.8946, Accuracy: 92.17%\n",
            "Epoch [3/10], Loss: 21.7007, Accuracy: 96.81%\n",
            "Validation Loss: 4.1365, Accuracy: 94.59%\n",
            "Epoch [4/10], Loss: 12.3676, Accuracy: 98.34%\n",
            "Validation Loss: 4.2108, Accuracy: 94.16%\n",
            "Epoch [5/10], Loss: 7.7720, Accuracy: 99.36%\n",
            "Validation Loss: 3.9947, Accuracy: 94.59%\n",
            "Epoch [6/10], Loss: 4.8303, Accuracy: 99.73%\n",
            "Validation Loss: 3.9227, Accuracy: 94.44%\n",
            "Epoch [7/10], Loss: 4.2713, Accuracy: 99.64%\n",
            "Validation Loss: 3.8101, Accuracy: 94.87%\n",
            "Epoch [8/10], Loss: 2.9180, Accuracy: 99.89%\n",
            "Validation Loss: 3.9575, Accuracy: 95.16%\n",
            "Epoch [9/10], Loss: 3.4610, Accuracy: 99.73%\n",
            "Validation Loss: 3.7884, Accuracy: 94.87%\n",
            "Epoch [10/10], Loss: 2.2702, Accuracy: 99.84%\n",
            "Validation Loss: 4.1139, Accuracy: 94.73%\n"
          ]
        }
      ]
    },
    {
      "cell_type": "code",
      "source": [
        "torch.save(model.state_dict(), \"/content/drive/MyDrive/data/model_transfer_learning2.pth\")\n",
        "print(\"Modelo guardado como model_transfer_learning.pth\")\n"
      ],
      "metadata": {
        "colab": {
          "base_uri": "https://localhost:8080/"
        },
        "id": "CDlRhw0uB5Oq",
        "outputId": "b2a79617-e4c4-4dd8-f856-86b232c79d52"
      },
      "execution_count": 29,
      "outputs": [
        {
          "output_type": "stream",
          "name": "stdout",
          "text": [
            "Modelo guardado como model_transfer_learning.pth\n"
          ]
        }
      ]
    },
    {
      "cell_type": "code",
      "source": [
        "model_path=\"/content/drive/MyDrive/data/model_transfer_learning2.pth\"\n",
        "model.load_state_dict(torch.load(model_path))\n",
        "model.eval()\n",
        "test_loss = 0\n",
        "correct = 0\n",
        "total = 0\n",
        "with torch.no_grad():\n",
        "    for images, labels in test_loader:\n",
        "        images, labels = images.to(device), labels.to(device)\n",
        "        outputs = model(images)\n",
        "        loss = criterion(outputs, labels)\n",
        "        test_loss += loss.item()\n",
        "        _, predicted = outputs.max(1)\n",
        "        total += labels.size(0)\n",
        "        correct += predicted.eq(labels).sum().item()\n",
        "\n",
        "    test_accuracy = 100. * correct / total\n",
        "    print(f\"Test Loss: {test_loss:.4f}, Accuracy: {test_accuracy:.2f}%\")\n"
      ],
      "metadata": {
        "colab": {
          "base_uri": "https://localhost:8080/"
        },
        "id": "V0W-cdp6DaT2",
        "outputId": "b1e6f7b7-71c3-4a00-9ce7-19da5632932f"
      },
      "execution_count": 32,
      "outputs": [
        {
          "output_type": "stream",
          "name": "stderr",
          "text": [
            "<ipython-input-32-4827f5373331>:2: FutureWarning: You are using `torch.load` with `weights_only=False` (the current default value), which uses the default pickle module implicitly. It is possible to construct malicious pickle data which will execute arbitrary code during unpickling (See https://github.com/pytorch/pytorch/blob/main/SECURITY.md#untrusted-models for more details). In a future release, the default value for `weights_only` will be flipped to `True`. This limits the functions that could be executed during unpickling. Arbitrary objects will no longer be allowed to be loaded via this mode unless they are explicitly allowlisted by the user via `torch.serialization.add_safe_globals`. We recommend you start setting `weights_only=True` for any use case where you don't have full control of the loaded file. Please open an issue on GitHub for any issues related to this experimental feature.\n",
            "  model.load_state_dict(torch.load(model_path))\n"
          ]
        },
        {
          "output_type": "stream",
          "name": "stdout",
          "text": [
            "Test Loss: 4.4709, Accuracy: 92.87%\n"
          ]
        }
      ]
    },
    {
      "cell_type": "code",
      "source": [],
      "metadata": {
        "id": "CnZFFdAIDxXa"
      },
      "execution_count": null,
      "outputs": []
    }
  ]
}